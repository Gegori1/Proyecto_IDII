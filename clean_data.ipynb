{
 "cells": [
  {
   "cell_type": "code",
   "execution_count": 29,
   "metadata": {},
   "outputs": [],
   "source": [
    "import pandas as pd\n",
    "from Utils import downcast\n",
    "from datetime import datetime\n",
    "import numpy as np\n",
    "import matplotlib.pyplot as plt"
   ]
  },
  {
   "attachments": {},
   "cell_type": "markdown",
   "metadata": {},
   "source": [
    "### 1.0 Read Data"
   ]
  },
  {
   "cell_type": "code",
   "execution_count": 56,
   "metadata": {},
   "outputs": [],
   "source": [
    "df = pd.read_excel(\"Reporte de Anticipos.xlsx\")"
   ]
  },
  {
   "cell_type": "code",
   "execution_count": 58,
   "metadata": {},
   "outputs": [
    {
     "data": {
      "text/plain": [
       "Index(['FechaApp', 'Id_URS_PR', 'FechaNacimiento', 'Id_CTL_EDO', 'MONTO',\n",
       "       'Fecha', 'ID', 'FechaRegistro', 'FechaActualizacion', 'Id_ANT_PR',\n",
       "       'Id_URS_PR.1', 'Id_TTS_PX', 'Id_CTS_FS', 'Monto', 'Comision', 'IVA',\n",
       "       'TotalAPagar', 'Cobrado', 'Id_CTL_ANT_ET', 'IdAgente',\n",
       "       'IdAgenteActualiza', 'Visible', 'Activo', 'CSexo', 'CEstado',\n",
       "       'CFechaNacimiento'],\n",
       "      dtype='object')"
      ]
     },
     "execution_count": 58,
     "metadata": {},
     "output_type": "execute_result"
    }
   ],
   "source": [
    "df.columns"
   ]
  },
  {
   "cell_type": "code",
   "execution_count": null,
   "metadata": {},
   "outputs": [
    {
     "data": {
      "text/html": [
       "<div>\n",
       "<style scoped>\n",
       "    .dataframe tbody tr th:only-of-type {\n",
       "        vertical-align: middle;\n",
       "    }\n",
       "\n",
       "    .dataframe tbody tr th {\n",
       "        vertical-align: top;\n",
       "    }\n",
       "\n",
       "    .dataframe thead th {\n",
       "        text-align: right;\n",
       "    }\n",
       "</style>\n",
       "<table border=\"1\" class=\"dataframe\">\n",
       "  <thead>\n",
       "    <tr style=\"text-align: right;\">\n",
       "      <th></th>\n",
       "      <th>id_usuario</th>\n",
       "      <th>id_prestamo</th>\n",
       "      <th>fecha_registro_app</th>\n",
       "      <th>fecha_nacimiento</th>\n",
       "      <th>id_estado</th>\n",
       "      <th>estado_nacimiento</th>\n",
       "      <th>genero</th>\n",
       "      <th>fecha_salario</th>\n",
       "      <th>salario</th>\n",
       "      <th>prestamo</th>\n",
       "      <th>fecha_aprobacion</th>\n",
       "      <th>ultima_actualizacion</th>\n",
       "    </tr>\n",
       "  </thead>\n",
       "  <tbody>\n",
       "    <tr>\n",
       "      <th>0</th>\n",
       "      <td>84583</td>\n",
       "      <td>29330</td>\n",
       "      <td>2021-11-22 21:17:07.043</td>\n",
       "      <td>1995-01-19</td>\n",
       "      <td>15</td>\n",
       "      <td>JC</td>\n",
       "      <td>H</td>\n",
       "      <td>2023-04-12</td>\n",
       "      <td>673.659973</td>\n",
       "      <td>301</td>\n",
       "      <td>2023-04-20 15:21:57.543</td>\n",
       "      <td>2023-04-20 15:21:58.590</td>\n",
       "    </tr>\n",
       "    <tr>\n",
       "      <th>1</th>\n",
       "      <td>84583</td>\n",
       "      <td>29330</td>\n",
       "      <td>2021-11-22 21:17:07.043</td>\n",
       "      <td>1995-01-19</td>\n",
       "      <td>15</td>\n",
       "      <td>JC</td>\n",
       "      <td>H</td>\n",
       "      <td>2023-04-20</td>\n",
       "      <td>994.260010</td>\n",
       "      <td>301</td>\n",
       "      <td>2023-04-20 15:21:57.543</td>\n",
       "      <td>2023-04-20 15:21:58.590</td>\n",
       "    </tr>\n",
       "    <tr>\n",
       "      <th>2</th>\n",
       "      <td>84583</td>\n",
       "      <td>29330</td>\n",
       "      <td>2021-11-22 21:17:07.043</td>\n",
       "      <td>1995-01-19</td>\n",
       "      <td>15</td>\n",
       "      <td>JC</td>\n",
       "      <td>H</td>\n",
       "      <td>2023-04-05</td>\n",
       "      <td>994.059998</td>\n",
       "      <td>301</td>\n",
       "      <td>2023-04-20 15:21:57.543</td>\n",
       "      <td>2023-04-20 15:21:58.590</td>\n",
       "    </tr>\n",
       "    <tr>\n",
       "      <th>3</th>\n",
       "      <td>84583</td>\n",
       "      <td>29330</td>\n",
       "      <td>2021-11-22 21:17:07.043</td>\n",
       "      <td>1995-01-19</td>\n",
       "      <td>15</td>\n",
       "      <td>JC</td>\n",
       "      <td>H</td>\n",
       "      <td>2023-04-03</td>\n",
       "      <td>1350.000000</td>\n",
       "      <td>301</td>\n",
       "      <td>2023-04-20 15:21:57.543</td>\n",
       "      <td>2023-04-20 15:21:58.590</td>\n",
       "    </tr>\n",
       "    <tr>\n",
       "      <th>4</th>\n",
       "      <td>334</td>\n",
       "      <td>29327</td>\n",
       "      <td>2020-08-04 12:17:55.137</td>\n",
       "      <td>1998-08-10</td>\n",
       "      <td>14</td>\n",
       "      <td>JC</td>\n",
       "      <td>M</td>\n",
       "      <td>2023-04-14</td>\n",
       "      <td>3782.659912</td>\n",
       "      <td>1300</td>\n",
       "      <td>2023-04-20 14:29:54.927</td>\n",
       "      <td>2023-04-20 14:29:55.940</td>\n",
       "    </tr>\n",
       "  </tbody>\n",
       "</table>\n",
       "</div>"
      ],
      "text/plain": [
       "   id_usuario  id_prestamo      fecha_registro_app fecha_nacimiento  \\\n",
       "0       84583        29330 2021-11-22 21:17:07.043       1995-01-19   \n",
       "1       84583        29330 2021-11-22 21:17:07.043       1995-01-19   \n",
       "2       84583        29330 2021-11-22 21:17:07.043       1995-01-19   \n",
       "3       84583        29330 2021-11-22 21:17:07.043       1995-01-19   \n",
       "4         334        29327 2020-08-04 12:17:55.137       1998-08-10   \n",
       "\n",
       "   id_estado estado_nacimiento genero fecha_salario      salario  prestamo  \\\n",
       "0         15                JC      H    2023-04-12   673.659973       301   \n",
       "1         15                JC      H    2023-04-20   994.260010       301   \n",
       "2         15                JC      H    2023-04-05   994.059998       301   \n",
       "3         15                JC      H    2023-04-03  1350.000000       301   \n",
       "4         14                JC      M    2023-04-14  3782.659912      1300   \n",
       "\n",
       "         fecha_aprobacion    ultima_actualizacion  \n",
       "0 2023-04-20 15:21:57.543 2023-04-20 15:21:58.590  \n",
       "1 2023-04-20 15:21:57.543 2023-04-20 15:21:58.590  \n",
       "2 2023-04-20 15:21:57.543 2023-04-20 15:21:58.590  \n",
       "3 2023-04-20 15:21:57.543 2023-04-20 15:21:58.590  \n",
       "4 2023-04-20 14:29:54.927 2023-04-20 14:29:55.940  "
      ]
     },
     "execution_count": 85,
     "metadata": {},
     "output_type": "execute_result"
    }
   ],
   "source": [
    "\n",
    "(\n",
    "    df\n",
    "    [[\"Id_URS_PR\", \"Id_ANT_PR\", \"FechaApp\", \"FechaNacimiento\", \"Id_CTL_EDO\", \"CEstado\", \"CSexo\", \"Fecha\", \"MONTO\", \"Monto\", \"FechaRegistro\", \"FechaActualizacion\"]]\n",
    "    .rename(columns={\n",
    "        \"Id_URS_PR\": \"id_usuario\",\n",
    "        \"Id_ANT_PR\": \"id_prestamo\",\n",
    "        \"FechaApp\": \"fecha_registro_app\",\n",
    "        \"FechaNacimiento\": \"fecha_nacimiento\",\n",
    "        \"Id_CTL_EDO\": \"id_estado\",\n",
    "        \"CEstado\": \"estado_nacimiento\",\n",
    "        \"CSexo\": \"sexo\",\n",
    "        \"Fecha\": \"fecha_salario\",\n",
    "        \"MONTO\": \"salario\",\n",
    "        \"Monto\": \"prestamo\",\n",
    "        \"FechaRegistro\": \"fecha_aprobacion\",\n",
    "        \"FechaActualizacion\": \"ultima_actualizacion\"\n",
    "    })\n",
    "    .head()\n",
    ")"
   ]
  },
  {
   "attachments": {},
   "cell_type": "markdown",
   "metadata": {},
   "source": [
    "#### 1.1 - Downcast"
   ]
  },
  {
   "cell_type": "code",
   "execution_count": 3,
   "metadata": {},
   "outputs": [],
   "source": [
    "df = downcast(df)"
   ]
  },
  {
   "attachments": {},
   "cell_type": "markdown",
   "metadata": {},
   "source": [
    "### 2.0 Remove non-useful rows"
   ]
  },
  {
   "attachments": {},
   "cell_type": "markdown",
   "metadata": {},
   "source": [
    "#### 2.1 - 18 years or older"
   ]
  },
  {
   "cell_type": "code",
   "execution_count": 4,
   "metadata": {},
   "outputs": [],
   "source": [
    "# CFechaNacimiento < '2005 01 01'\n",
    "df = df[df['CFechaNacimiento'] < '2005 01 01']"
   ]
  },
  {
   "attachments": {},
   "cell_type": "markdown",
   "metadata": {},
   "source": [
    "#### 2.2 - Error while registering"
   ]
  },
  {
   "cell_type": "code",
   "execution_count": 5,
   "metadata": {},
   "outputs": [],
   "source": [
    "# FechaActualizacion - FechaRegistro < 1 day & Cobrado != 0\n",
    "df = df.query(\"~(FechaActualizacion - FechaRegistro < '1 day' and Cobrado != 0)\")"
   ]
  },
  {
   "attachments": {},
   "cell_type": "markdown",
   "metadata": {},
   "source": [
    "#### 2.3 - Due date not captured in the report"
   ]
  },
  {
   "cell_type": "code",
   "execution_count": 6,
   "metadata": {},
   "outputs": [],
   "source": [
    "# Remove entries with date 50 days before 2023-04-25\n",
    "df = df[df.FechaRegistro < datetime(2023, 4, 25) - pd.Timedelta(days=50)]"
   ]
  },
  {
   "attachments": {},
   "cell_type": "markdown",
   "metadata": {},
   "source": [
    "### 3.0 Add probably useful features"
   ]
  },
  {
   "cell_type": "code",
   "execution_count": 7,
   "metadata": {},
   "outputs": [],
   "source": [
    "df = (\n",
    "    df\n",
    "    .assign(\n",
    "        Edad = lambda k: (datetime.today() - k.CFechaNacimiento).dt.days / 365.25,\n",
    "        TiempoAnticipo = lambda k: (k.FechaActualizacion - k.FechaRegistro),\n",
    "        TiempoEnApp = lambda k: (k.FechaRegistro - k.FechaApp).dt.days,\n",
    "        RegistroDif = lambda k: (k.Fecha - k.FechaRegistro).dt.days\n",
    "    )\n",
    "    # to get the last day of payment to user\n",
    "    .assign(\n",
    "        RegistroDif = lambda k: np.where(k.RegistroDif > 0, 1000, -k.RegistroDif) \n",
    "    )\n",
    ")"
   ]
  },
  {
   "cell_type": "code",
   "execution_count": 8,
   "metadata": {},
   "outputs": [
    {
     "data": {
      "text/html": [
       "<div>\n",
       "<style scoped>\n",
       "    .dataframe tbody tr th:only-of-type {\n",
       "        vertical-align: middle;\n",
       "    }\n",
       "\n",
       "    .dataframe tbody tr th {\n",
       "        vertical-align: top;\n",
       "    }\n",
       "\n",
       "    .dataframe thead th {\n",
       "        text-align: right;\n",
       "    }\n",
       "</style>\n",
       "<table border=\"1\" class=\"dataframe\">\n",
       "  <thead>\n",
       "    <tr style=\"text-align: right;\">\n",
       "      <th></th>\n",
       "      <th>Id_ANT_PR</th>\n",
       "      <th>Cobrado</th>\n",
       "    </tr>\n",
       "  </thead>\n",
       "  <tbody>\n",
       "  </tbody>\n",
       "</table>\n",
       "</div>"
      ],
      "text/plain": [
       "Empty DataFrame\n",
       "Columns: [Id_ANT_PR, Cobrado]\n",
       "Index: []"
      ]
     },
     "execution_count": 8,
     "metadata": {},
     "output_type": "execute_result"
    }
   ],
   "source": [
    "# Each loan is paid only once. Important in 5.0\n",
    "df.groupby(\"Id_ANT_PR\").agg({\"Cobrado\": \"nunique\"}).reset_index().query(\"Cobrado > 1\")"
   ]
  },
  {
   "cell_type": "code",
   "execution_count": 9,
   "metadata": {},
   "outputs": [
    {
     "data": {
      "text/html": [
       "<div>\n",
       "<style scoped>\n",
       "    .dataframe tbody tr th:only-of-type {\n",
       "        vertical-align: middle;\n",
       "    }\n",
       "\n",
       "    .dataframe tbody tr th {\n",
       "        vertical-align: top;\n",
       "    }\n",
       "\n",
       "    .dataframe thead th {\n",
       "        text-align: right;\n",
       "    }\n",
       "</style>\n",
       "<table border=\"1\" class=\"dataframe\">\n",
       "  <thead>\n",
       "    <tr style=\"text-align: right;\">\n",
       "      <th></th>\n",
       "      <th>Id_ANT_PR</th>\n",
       "      <th>FechaActualizacion</th>\n",
       "    </tr>\n",
       "  </thead>\n",
       "  <tbody>\n",
       "  </tbody>\n",
       "</table>\n",
       "</div>"
      ],
      "text/plain": [
       "Empty DataFrame\n",
       "Columns: [Id_ANT_PR, FechaActualizacion]\n",
       "Index: []"
      ]
     },
     "execution_count": 9,
     "metadata": {},
     "output_type": "execute_result"
    }
   ],
   "source": [
    "# Each loan is updated only once. Important in 5.0\n",
    "df.groupby(\"Id_ANT_PR\").agg({\"FechaActualizacion\": \"nunique\"}).reset_index().query(\"FechaActualizacion > 1\")"
   ]
  },
  {
   "attachments": {},
   "cell_type": "markdown",
   "metadata": {},
   "source": [
    "### 4.0 Get average income from user by month"
   ]
  },
  {
   "cell_type": "code",
   "execution_count": 10,
   "metadata": {},
   "outputs": [],
   "source": [
    "df_simp = (\n",
    "    df\n",
    "    .groupby(\"Id_ANT_PR\")\n",
    "    .agg(\n",
    "        User_Id = (\"Id_URS_PR\", \"first\"),\n",
    "        Gender = (\"CSexo\", \"first\"),\n",
    "        BirthState = (\"CEstado\", \"first\"),\n",
    "        State_Id = (\"Id_CTL_EDO\", \"first\"),\n",
    "        TimeInApp = (\"TiempoEnApp\", \"last\"),\n",
    "        Age = (\"Edad\", \"first\"),\n",
    "        SalaryByPeriod = (\"MONTO\", \"mean\"),\n",
    "        Pay_rate = (\"Fecha\", \"count\"),\n",
    "        ClosestPay = (\"RegistroDif\", \"min\"),\n",
    "        loan_amount = (\"Monto\", \"first\"),\n",
    "        topay_amount = (\"TotalAPagar\", \"first\"),\n",
    "        paid_amount = (\"Cobrado\", \"last\"),\n",
    "        RegistrationDate = (\"FechaRegistro\", \"first\"),\n",
    "        LastUpdate = (\"FechaActualizacion\", \"last\"),\n",
    "        TimediffUpdate = (\"TiempoAnticipo\", \"first\"),\n",
    "    )\n",
    "    .reset_index()\n",
    ")"
   ]
  },
  {
   "attachments": {},
   "cell_type": "markdown",
   "metadata": {},
   "source": [
    "### 5.0 Paid/Unpaid ratio"
   ]
  },
  {
   "cell_type": "code",
   "execution_count": 11,
   "metadata": {},
   "outputs": [],
   "source": [
    "df_simp = (\n",
    "    df_simp\n",
    "    .assign(\n",
    "        Paid = lambda k: np.where(k.paid_amount < k.topay_amount, 0, 1),\n",
    "    )\n",
    "    .assign(\n",
    "        Paid = lambda k: np.where(k.TimediffUpdate > '35 days', 0, k.Paid),\n",
    "    )\n",
    ")"
   ]
  },
  {
   "attachments": {},
   "cell_type": "markdown",
   "metadata": {},
   "source": [
    "### 6.0 rate of payment (7, 15, 30)"
   ]
  },
  {
   "cell_type": "code",
   "execution_count": 12,
   "metadata": {},
   "outputs": [],
   "source": [
    "df_simp = (\n",
    "    df_simp\n",
    "    .assign(\n",
    "        Pay_rate = lambda k: np.where(k.Pay_rate == 1, 30, \n",
    "                            np.where(k.Pay_rate.isin([2, 3]), 15,\n",
    "                            np.where(k.Pay_rate > 3, 7, 0)))\n",
    "    )\n",
    ")"
   ]
  },
  {
   "attachments": {},
   "cell_type": "markdown",
   "metadata": {},
   "source": [
    "### 7.0 Not paid"
   ]
  },
  {
   "cell_type": "code",
   "execution_count": 13,
   "metadata": {},
   "outputs": [],
   "source": [
    "# Update LastUpdate and TimediffUpdate if FechaActualizacion - FechaRegistro < 1 day\n",
    "\n",
    "df_simp = (\n",
    "    df_simp\n",
    "    .assign(\n",
    "        LastUpdate = lambda k: np.where(\n",
    "            (k.ClosestPay == 1000) & (k.TimediffUpdate < '1 day'),\n",
    "            k.RegistrationDate.astype(\"datetime64[M]\") + pd.Timedelta(days=14),\n",
    "            np.where(\n",
    "                (k.ClosestPay != 1000) & (k.TimediffUpdate < '1 day'),\n",
    "                k.LastUpdate - pd.to_timedelta(k.ClosestPay, unit='D') + pd.to_timedelta(k.Pay_rate, unit='D'),\n",
    "                k.LastUpdate\n",
    "            )\n",
    "        ),\n",
    "        TimediffUpdate = lambda k: k.LastUpdate - k.RegistrationDate\n",
    "    )\n",
    "    .assign(\n",
    "        LastUpdate = lambda k: np.where(\n",
    "            k.TimediffUpdate < '1 day',\n",
    "            k.RegistrationDate + pd.Timedelta(days=1),\n",
    "            k.LastUpdate\n",
    "        ),\n",
    "        TimediffUpdate = lambda k: k.LastUpdate - k.RegistrationDate\n",
    "    )\n",
    ")"
   ]
  },
  {
   "cell_type": "code",
   "execution_count": 14,
   "metadata": {},
   "outputs": [
    {
     "data": {
      "text/html": [
       "<div>\n",
       "<style scoped>\n",
       "    .dataframe tbody tr th:only-of-type {\n",
       "        vertical-align: middle;\n",
       "    }\n",
       "\n",
       "    .dataframe tbody tr th {\n",
       "        vertical-align: top;\n",
       "    }\n",
       "\n",
       "    .dataframe thead th {\n",
       "        text-align: right;\n",
       "    }\n",
       "</style>\n",
       "<table border=\"1\" class=\"dataframe\">\n",
       "  <thead>\n",
       "    <tr style=\"text-align: right;\">\n",
       "      <th></th>\n",
       "      <th>Id_ANT_PR</th>\n",
       "      <th>User_Id</th>\n",
       "      <th>Gender</th>\n",
       "      <th>BirthState</th>\n",
       "      <th>State_Id</th>\n",
       "      <th>TimeInApp</th>\n",
       "      <th>Age</th>\n",
       "      <th>SalaryByPeriod</th>\n",
       "      <th>Pay_rate</th>\n",
       "      <th>ClosestPay</th>\n",
       "      <th>loan_amount</th>\n",
       "      <th>topay_amount</th>\n",
       "      <th>paid_amount</th>\n",
       "      <th>RegistrationDate</th>\n",
       "      <th>LastUpdate</th>\n",
       "      <th>TimediffUpdate</th>\n",
       "      <th>Paid</th>\n",
       "    </tr>\n",
       "  </thead>\n",
       "  <tbody>\n",
       "  </tbody>\n",
       "</table>\n",
       "</div>"
      ],
      "text/plain": [
       "Empty DataFrame\n",
       "Columns: [Id_ANT_PR, User_Id, Gender, BirthState, State_Id, TimeInApp, Age, SalaryByPeriod, Pay_rate, ClosestPay, loan_amount, topay_amount, paid_amount, RegistrationDate, LastUpdate, TimediffUpdate, Paid]\n",
       "Index: []"
      ]
     },
     "execution_count": 14,
     "metadata": {},
     "output_type": "execute_result"
    }
   ],
   "source": [
    "df_simp.query(\"TimediffUpdate < '1 day'\")"
   ]
  },
  {
   "attachments": {},
   "cell_type": "markdown",
   "metadata": {},
   "source": [
    "### 8.0 Add financial features"
   ]
  },
  {
   "cell_type": "code",
   "execution_count": 15,
   "metadata": {},
   "outputs": [],
   "source": [
    "df_simp = (\n",
    "    df_simp\n",
    "    .assign(\n",
    "        loan_num = lambda k: k.groupby(\"User_Id\").Id_ANT_PR.transform(\"count\"),\n",
    "        annual_interest_rate_per = lambda k: 0.06*(360/k.TimediffUpdate.dt.days),\n",
    "        loan_rate_salary = lambda k: k.topay_amount/k.SalaryByPeriod\n",
    "    )\n",
    ")"
   ]
  },
  {
   "attachments": {},
   "cell_type": "markdown",
   "metadata": {},
   "source": [
    "### 9.0 Remove anomalous values"
   ]
  },
  {
   "cell_type": "code",
   "execution_count": 16,
   "metadata": {},
   "outputs": [
    {
     "data": {
      "text/html": [
       "<div>\n",
       "<style scoped>\n",
       "    .dataframe tbody tr th:only-of-type {\n",
       "        vertical-align: middle;\n",
       "    }\n",
       "\n",
       "    .dataframe tbody tr th {\n",
       "        vertical-align: top;\n",
       "    }\n",
       "\n",
       "    .dataframe thead th {\n",
       "        text-align: right;\n",
       "    }\n",
       "</style>\n",
       "<table border=\"1\" class=\"dataframe\">\n",
       "  <thead>\n",
       "    <tr style=\"text-align: right;\">\n",
       "      <th></th>\n",
       "      <th>loan_num</th>\n",
       "      <th>annual_interest_rate_per</th>\n",
       "      <th>loan_rate_salary</th>\n",
       "    </tr>\n",
       "  </thead>\n",
       "  <tbody>\n",
       "    <tr>\n",
       "      <th>count</th>\n",
       "      <td>19815.000000</td>\n",
       "      <td>19814.000000</td>\n",
       "      <td>19815.000000</td>\n",
       "    </tr>\n",
       "    <tr>\n",
       "      <th>mean</th>\n",
       "      <td>29.715720</td>\n",
       "      <td>3.914598</td>\n",
       "      <td>15.435164</td>\n",
       "    </tr>\n",
       "    <tr>\n",
       "      <th>std</th>\n",
       "      <td>19.442453</td>\n",
       "      <td>4.356371</td>\n",
       "      <td>961.943481</td>\n",
       "    </tr>\n",
       "    <tr>\n",
       "      <th>min</th>\n",
       "      <td>1.000000</td>\n",
       "      <td>0.041699</td>\n",
       "      <td>0.000123</td>\n",
       "    </tr>\n",
       "    <tr>\n",
       "      <th>25%</th>\n",
       "      <td>14.000000</td>\n",
       "      <td>1.542857</td>\n",
       "      <td>0.154953</td>\n",
       "    </tr>\n",
       "    <tr>\n",
       "      <th>50%</th>\n",
       "      <td>27.000000</td>\n",
       "      <td>2.400000</td>\n",
       "      <td>0.242334</td>\n",
       "    </tr>\n",
       "    <tr>\n",
       "      <th>75%</th>\n",
       "      <td>43.000000</td>\n",
       "      <td>4.320000</td>\n",
       "      <td>0.309717</td>\n",
       "    </tr>\n",
       "    <tr>\n",
       "      <th>max</th>\n",
       "      <td>95.000000</td>\n",
       "      <td>21.600000</td>\n",
       "      <td>65379.000000</td>\n",
       "    </tr>\n",
       "  </tbody>\n",
       "</table>\n",
       "</div>"
      ],
      "text/plain": [
       "           loan_num  annual_interest_rate_per  loan_rate_salary\n",
       "count  19815.000000              19814.000000      19815.000000\n",
       "mean      29.715720                  3.914598         15.435164\n",
       "std       19.442453                  4.356371        961.943481\n",
       "min        1.000000                  0.041699          0.000123\n",
       "25%       14.000000                  1.542857          0.154953\n",
       "50%       27.000000                  2.400000          0.242334\n",
       "75%       43.000000                  4.320000          0.309717\n",
       "max       95.000000                 21.600000      65379.000000"
      ]
     },
     "execution_count": 16,
     "metadata": {},
     "output_type": "execute_result"
    }
   ],
   "source": [
    "df_simp[[\"loan_num\", \"annual_interest_rate_per\", \"loan_rate_salary\"]].describe()"
   ]
  },
  {
   "cell_type": "code",
   "execution_count": 17,
   "metadata": {},
   "outputs": [
    {
     "data": {
      "image/png": "[encoded data removed]",
      "text/plain": [
       "<Figure size 1440x1440 with 9 Axes>"
      ]
     },
     "metadata": {
      "needs_background": "light"
     },
     "output_type": "display_data"
    }
   ],
   "source": [
    "(\n",
    "    df_simp\n",
    "    [['TimeInApp', 'Age', 'SalaryByPeriod',\n",
    "      'paid_amount',\n",
    "      'Paid', 'loan_num', 'annual_interest_rate_per',\n",
    "       'loan_rate_salary']]\n",
    "    .hist(figsize=(20, 20))\n",
    ");"
   ]
  },
  {
   "cell_type": "code",
   "execution_count": 18,
   "metadata": {},
   "outputs": [],
   "source": [
    "# The only that I consider to be a problem is the loan_rate_salary\n",
    "# loan_rate_salary < 1"
   ]
  },
  {
   "cell_type": "code",
   "execution_count": 19,
   "metadata": {},
   "outputs": [
    {
     "name": "stdout",
     "output_type": "stream",
     "text": [
      "Q3 and Q4 of loan_rate_salary\n"
     ]
    },
    {
     "data": {
      "text/plain": [
       "0.75        0.309717\n",
       "1.00    65379.000000\n",
       "Name: loan_rate_salary, dtype: float64"
      ]
     },
     "metadata": {},
     "output_type": "display_data"
    },
    {
     "name": "stdout",
     "output_type": "stream",
     "text": [
      "3 std of loan_rate_salary\n"
     ]
    },
    {
     "data": {
      "text/plain": [
       "2901.2656087875366"
      ]
     },
     "execution_count": 19,
     "metadata": {},
     "output_type": "execute_result"
    }
   ],
   "source": [
    "# check the fourth quartile of loan_rate_salary\n",
    "print(\"Q3 and Q4 of loan_rate_salary\")\n",
    "display(df_simp.loan_rate_salary.quantile([0.75, 1]))\n",
    "# check 3 std of loan_rate_salary\n",
    "print(\"3 std of loan_rate_salary\")\n",
    "df_simp.loan_rate_salary.mean() + 3*df_simp.loan_rate_salary.std()"
   ]
  },
  {
   "attachments": {},
   "cell_type": "markdown",
   "metadata": {},
   "source": [
    "#### 9.1 - Update loan_rate_salary"
   ]
  },
  {
   "cell_type": "code",
   "execution_count": 20,
   "metadata": {},
   "outputs": [],
   "source": [
    "df_simp = df_simp.query(\"loan_rate_salary <= 1\")"
   ]
  },
  {
   "attachments": {},
   "cell_type": "markdown",
   "metadata": {},
   "source": [
    "### 10.0 - Feature Engineering"
   ]
  },
  {
   "cell_type": "code",
   "execution_count": 21,
   "metadata": {},
   "outputs": [],
   "source": [
    "state_dict = {\n",
    "    'AS': 1, 'BC': 2, 'BS': 3, 'CC': 4, 'CH': 5, 'CL': 6,\n",
    "    'CS': 7, 'DF': 8, 'DG': 9, 'GR': 10, 'GT': 11, 'HG': 12,\n",
    "    'JC': 13, 'MC': 14, 'MN': 15, 'MS': 16, 'NE': 17, 'NL': 18,\n",
    "    'NT': 19, 'OC': 20, 'PL': 21, 'QR': 22, 'QT': 23, 'SL': 24,\n",
    "    'SP': 25, 'SR': 26, 'TC': 27, 'TL': 28, 'TS': 29, 'VZ': 30,\n",
    "    'YN': 31, 'ZS': 32\n",
    "}"
   ]
  },
  {
   "attachments": {},
   "cell_type": "markdown",
   "metadata": {},
   "source": [
    "#### 10.1 - BirthState and Gender to numeric"
   ]
  },
  {
   "cell_type": "code",
   "execution_count": 22,
   "metadata": {},
   "outputs": [],
   "source": [
    "df_model = (\n",
    "    df_simp\n",
    "    .assign(\n",
    "        BirthState = lambda k: k.BirthState.map(state_dict).astype(int),\n",
    "        # batos (0), morras (1)\n",
    "        Gender = lambda k: k.Gender.astype(\"category\").cat.codes,\n",
    "    )\n",
    ")"
   ]
  },
  {
   "attachments": {},
   "cell_type": "markdown",
   "metadata": {},
   "source": [
    "#### 10.2 - Select features"
   ]
  },
  {
   "cell_type": "code",
   "execution_count": 23,
   "metadata": {},
   "outputs": [],
   "source": [
    "df_model = (\n",
    "  df_model\n",
    "  [[\n",
    "      'Gender', 'BirthState', 'State_Id', 'TimeInApp', 'Age',\n",
    "      'paid_amount', 'Paid', 'loan_num', 'annual_interest_rate_per', 'loan_rate_salary'\n",
    "  ]]\n",
    ")"
   ]
  },
  {
   "attachments": {},
   "cell_type": "markdown",
   "metadata": {},
   "source": [
    "### 10.3 - Feature transformation"
   ]
  },
  {
   "attachments": {},
   "cell_type": "markdown",
   "metadata": {},
   "source": [
    "- TimeInApp"
   ]
  },
  {
   "cell_type": "code",
   "execution_count": 54,
   "metadata": {},
   "outputs": [
    {
     "data": {
      "image/png": "[encoded data removed]",
      "text/plain": [
       "<Figure size 1440x720 with 2 Axes>"
      ]
     },
     "metadata": {
      "needs_background": "light"
     },
     "output_type": "display_data"
    }
   ],
   "source": [
    "ll = (\n",
    "    df_model\n",
    "    .assign(Raiz_cuadrada_TimeInApp = lambda k: np.sqrt(k.TimeInApp))\n",
    "    [['TimeInApp', 'Raiz_cuadrada_TimeInApp']]\n",
    ")\n",
    "\n",
    "#  histogram of TimeInApp and Raiz_cuadrada_TimeInApp\n",
    "fig, ax = plt.subplots(1, 2, figsize=(20, 10))\n",
    "ax[0].hist(ll.TimeInApp, bins=10, color=\"blue\")\n",
    "ax[0].set_title(\"Tiempo en la app\", fontsize=20)\n",
    "ax[1].hist(ll.Raiz_cuadrada_TimeInApp, bins=10, color=\"blue\")\n",
    "ax[1].set_title(\"Raiz cuadara Tiempo en la app\", fontsize=20)\n",
    "# increase the tick size\n",
    "ax[0].tick_params(axis='both', which='major', labelsize=15)\n",
    "ax[1].tick_params(axis='both', which='major', labelsize=15)"
   ]
  },
  {
   "attachments": {},
   "cell_type": "markdown",
   "metadata": {},
   "source": [
    "- Age"
   ]
  },
  {
   "cell_type": "code",
   "execution_count": 55,
   "metadata": {},
   "outputs": [
    {
     "data": {
      "image/png": "[encoded data removed]",
      "text/plain": [
       "<Figure size 1440x720 with 2 Axes>"
      ]
     },
     "metadata": {
      "needs_background": "light"
     },
     "output_type": "display_data"
    }
   ],
   "source": [
    "ll = (\n",
    "    df_model\n",
    "    .assign(Age_ = lambda k: np.log(k.Age))\n",
    "    [['Age_', 'Age']]\n",
    ")\n",
    "\n",
    "#  histogram of Age and Age_\n",
    "fig, ax = plt.subplots(1, 2, figsize=(20, 10))\n",
    "ax[0].hist(ll.Age, bins=10, color=\"blue\")\n",
    "ax[0].set_title(\"Edad\", fontsize=20)\n",
    "ax[1].hist(ll.Age_, bins=10, color=\"blue\")\n",
    "ax[1].set_title(\"Log Edad\", fontsize=20)\n",
    "# increase the tick size\n",
    "ax[0].tick_params(axis='both', which='major', labelsize=15)\n",
    "ax[1].tick_params(axis='both', which='major', labelsize=15)"
   ]
  },
  {
   "attachments": {},
   "cell_type": "markdown",
   "metadata": {},
   "source": [
    "- paid_amount"
   ]
  },
  {
   "cell_type": "code",
   "execution_count": 79,
   "metadata": {},
   "outputs": [
    {
     "data": {
      "image/png": "[encoded data removed]",
      "text/plain": [
       "<Figure size 1440x720 with 2 Axes>"
      ]
     },
     "metadata": {
      "needs_background": "light"
     },
     "output_type": "display_data"
    }
   ],
   "source": [
    "ll = (\n",
    "    df_model\n",
    "    .assign(paid_amount_ = lambda k: np.log(k.paid_amount + 1))\n",
    "    [['paid_amount_', 'paid_amount']]\n",
    ");\n",
    "\n",
    "#  histogram of paid_amount and paid_amount_\n",
    "fig, ax = plt.subplots(1, 2, figsize=(20, 10))\n",
    "ax[0].hist(ll.paid_amount, bins=10, color=\"blue\")\n",
    "ax[0].set_title(\"Cantidad préstamo\", fontsize=20)\n",
    "ax[1].hist(ll.paid_amount_, bins=10, color=\"blue\")\n",
    "ax[1].set_title(\"Log Cantidad préstamo\", fontsize=20)\n",
    "# increase the tick size\n",
    "ax[0].tick_params(axis='both', which='major', labelsize=15)\n",
    "ax[1].tick_params(axis='both', which='major', labelsize=15)"
   ]
  },
  {
   "attachments": {},
   "cell_type": "markdown",
   "metadata": {},
   "source": [
    "- loan_num"
   ]
  },
  {
   "cell_type": "code",
   "execution_count": 82,
   "metadata": {},
   "outputs": [
    {
     "data": {
      "image/png": "[encoded data removed]",
      "text/plain": [
       "<Figure size 1440x720 with 2 Axes>"
      ]
     },
     "metadata": {
      "needs_background": "light"
     },
     "output_type": "display_data"
    }
   ],
   "source": [
    "ll = (\n",
    "    df_model\n",
    "    .assign(loan_num_ = lambda k: np.sqrt(k.loan_num))\n",
    "    [['loan_num_', 'loan_num']]\n",
    ")\n",
    "\n",
    "#  histogram of loan_num and loan_num_\n",
    "fig, ax = plt.subplots(1, 2, figsize=(20, 10))\n",
    "ax[0].hist(ll.loan_num, bins=10, color=\"blue\")\n",
    "ax[0].set_title(\"Número de préstamos\", fontsize=20)\n",
    "ax[1].hist(ll.loan_num_, bins=10, color=\"blue\")\n",
    "ax[1].set_title(\"Raiz cuadrada Número de préstamos\", fontsize=20)\n",
    "# increase the tick size\n",
    "ax[0].tick_params(axis='both', which='major', labelsize=15)\n",
    "ax[1].tick_params(axis='both', which='major', labelsize=15)"
   ]
  },
  {
   "attachments": {},
   "cell_type": "markdown",
   "metadata": {},
   "source": [
    "- annual_interest_rate_per"
   ]
  },
  {
   "cell_type": "code",
   "execution_count": 81,
   "metadata": {},
   "outputs": [
    {
     "data": {
      "image/png": "[encoded data removed]",
      "text/plain": [
       "<Figure size 1440x720 with 2 Axes>"
      ]
     },
     "metadata": {
      "needs_background": "light"
     },
     "output_type": "display_data"
    }
   ],
   "source": [
    "ll = (\n",
    "    df_model\n",
    "    .assign(\n",
    "        # annual_interest_rate_per_sqrt = lambda k: np.sqrt(k.annual_interest_rate_per),\n",
    "        annual_interest_rate_per_log = lambda k: np.log(k.annual_interest_rate_per)\n",
    "    )\n",
    "    [['annual_interest_rate_per_log', 'annual_interest_rate_per']]\n",
    "    # .hist(bins=20, figsize=(20, 8))\n",
    ");\n",
    "\n",
    "#  histogram of annual_interest_rate_per and annual_interest_rate_per_log\n",
    "fig, ax = plt.subplots(1, 2, figsize=(20, 10))\n",
    "ax[0].hist(ll.annual_interest_rate_per, bins=10, color=\"blue\")\n",
    "ax[0].set_title(\"Interés anual\", fontsize=20)\n",
    "ax[1].hist(ll.annual_interest_rate_per_log, bins=10, color=\"blue\")\n",
    "ax[1].set_title(\"Log Interés anual\", fontsize=20)\n",
    "# increase the tick size\n",
    "ax[0].tick_params(axis='both', which='major', labelsize=15)\n",
    "ax[1].tick_params(axis='both', which='major', labelsize=15)"
   ]
  },
  {
   "attachments": {},
   "cell_type": "markdown",
   "metadata": {},
   "source": [
    "- loan_rate_salary"
   ]
  },
  {
   "cell_type": "code",
   "execution_count": 84,
   "metadata": {},
   "outputs": [
    {
     "data": {
      "image/png": "[encoded data removed]",
      "text/plain": [
       "<Figure size 1440x720 with 2 Axes>"
      ]
     },
     "metadata": {
      "needs_background": "light"
     },
     "output_type": "display_data"
    }
   ],
   "source": [
    "ll = (\n",
    "    df_model\n",
    "    .assign(loan_rate_salary_ = lambda k: np.sqrt(k.loan_rate_salary))\n",
    "    [['loan_rate_salary_', 'loan_rate_salary']]\n",
    ");\n",
    "\n",
    "#  histogram of loan_rate_salary and loan_rate_salary_\n",
    "fig, ax = plt.subplots(1, 2, figsize=(20, 10))\n",
    "ax[0].hist(ll.loan_rate_salary, bins=10, color=\"blue\")\n",
    "ax[0].set_title(\"Porcentaje de préstamo sobre salario\", fontsize=20)\n",
    "ax[1].hist(ll.loan_rate_salary_, bins=10, color=\"blue\")\n",
    "ax[1].set_title(\"Raiz cuadrada Porcentaje de préstamo sobre salario\", fontsize=20)\n",
    "# increase the tick size\n",
    "ax[0].tick_params(axis='both', which='major', labelsize=15)\n",
    "ax[1].tick_params(axis='both', which='major', labelsize=15)"
   ]
  },
  {
   "cell_type": "code",
   "execution_count": 31,
   "metadata": {},
   "outputs": [],
   "source": [
    "df_model = (\n",
    "    df_model\n",
    "    .assign(\n",
    "        TimeInApp = lambda k: np.sqrt(k.TimeInApp),\n",
    "        Age = lambda k: np.log(k.Age),\n",
    "        paid_amount = lambda k: np.log(k.paid_amount + 1),\n",
    "        loan_num = lambda k: np.sqrt(k.loan_num),\n",
    "        annual_interest_rate_per = lambda k: np.log(k.annual_interest_rate_per),\n",
    "        loan_rate_salary = lambda k: np.sqrt(k.loan_rate_salary)\n",
    "    )\n",
    ")"
   ]
  },
  {
   "cell_type": "code",
   "execution_count": 32,
   "metadata": {},
   "outputs": [
    {
     "data": {
      "image/png": "[encoded data removed]",
      "text/plain": [
       "<Figure size 1440x1440 with 12 Axes>"
      ]
     },
     "metadata": {
      "needs_background": "light"
     },
     "output_type": "display_data"
    }
   ],
   "source": [
    "df_model.hist(figsize=(20, 20));"
   ]
  },
  {
   "cell_type": "code",
   "execution_count": 33,
   "metadata": {},
   "outputs": [
    {
     "data": {
      "text/html": [
       "<div>\n",
       "<style scoped>\n",
       "    .dataframe tbody tr th:only-of-type {\n",
       "        vertical-align: middle;\n",
       "    }\n",
       "\n",
       "    .dataframe tbody tr th {\n",
       "        vertical-align: top;\n",
       "    }\n",
       "\n",
       "    .dataframe thead th {\n",
       "        text-align: right;\n",
       "    }\n",
       "</style>\n",
       "<table border=\"1\" class=\"dataframe\">\n",
       "  <thead>\n",
       "    <tr style=\"text-align: right;\">\n",
       "      <th></th>\n",
       "      <th>Gender</th>\n",
       "      <th>BirthState</th>\n",
       "      <th>State_Id</th>\n",
       "      <th>TimeInApp</th>\n",
       "      <th>Age</th>\n",
       "      <th>paid_amount</th>\n",
       "      <th>Paid</th>\n",
       "      <th>loan_num</th>\n",
       "      <th>annual_interest_rate_per</th>\n",
       "      <th>loan_rate_salary</th>\n",
       "    </tr>\n",
       "  </thead>\n",
       "  <tbody>\n",
       "    <tr>\n",
       "      <th>count</th>\n",
       "      <td>19770.000000</td>\n",
       "      <td>19770.000000</td>\n",
       "      <td>19770.000000</td>\n",
       "      <td>19770.000000</td>\n",
       "      <td>19770.000000</td>\n",
       "      <td>19770.000000</td>\n",
       "      <td>19770.000000</td>\n",
       "      <td>19770.000000</td>\n",
       "      <td>19769.000000</td>\n",
       "      <td>19770.000000</td>\n",
       "    </tr>\n",
       "    <tr>\n",
       "      <th>mean</th>\n",
       "      <td>0.446434</td>\n",
       "      <td>13.165857</td>\n",
       "      <td>14.199494</td>\n",
       "      <td>19.280951</td>\n",
       "      <td>3.488211</td>\n",
       "      <td>6.397296</td>\n",
       "      <td>0.973091</td>\n",
       "      <td>5.122855</td>\n",
       "      <td>1.022761</td>\n",
       "      <td>0.462910</td>\n",
       "    </tr>\n",
       "    <tr>\n",
       "      <th>std</th>\n",
       "      <td>0.497135</td>\n",
       "      <td>5.677897</td>\n",
       "      <td>5.937708</td>\n",
       "      <td>5.532923</td>\n",
       "      <td>0.269432</td>\n",
       "      <td>1.347757</td>\n",
       "      <td>0.161823</td>\n",
       "      <td>1.872702</td>\n",
       "      <td>0.754034</td>\n",
       "      <td>0.132813</td>\n",
       "    </tr>\n",
       "    <tr>\n",
       "      <th>min</th>\n",
       "      <td>0.000000</td>\n",
       "      <td>1.000000</td>\n",
       "      <td>2.000000</td>\n",
       "      <td>6.633250</td>\n",
       "      <td>2.927912</td>\n",
       "      <td>0.000000</td>\n",
       "      <td>0.000000</td>\n",
       "      <td>1.000000</td>\n",
       "      <td>-3.177282</td>\n",
       "      <td>0.011108</td>\n",
       "    </tr>\n",
       "    <tr>\n",
       "      <th>25%</th>\n",
       "      <td>0.000000</td>\n",
       "      <td>8.000000</td>\n",
       "      <td>11.000000</td>\n",
       "      <td>15.231546</td>\n",
       "      <td>3.283517</td>\n",
       "      <td>5.983980</td>\n",
       "      <td>1.000000</td>\n",
       "      <td>3.741657</td>\n",
       "      <td>0.433636</td>\n",
       "      <td>0.393281</td>\n",
       "    </tr>\n",
       "    <tr>\n",
       "      <th>50%</th>\n",
       "      <td>0.000000</td>\n",
       "      <td>13.000000</td>\n",
       "      <td>14.000000</td>\n",
       "      <td>18.788294</td>\n",
       "      <td>3.458437</td>\n",
       "      <td>6.673841</td>\n",
       "      <td>1.000000</td>\n",
       "      <td>5.196152</td>\n",
       "      <td>0.875469</td>\n",
       "      <td>0.491984</td>\n",
       "    </tr>\n",
       "    <tr>\n",
       "      <th>75%</th>\n",
       "      <td>1.000000</td>\n",
       "      <td>13.000000</td>\n",
       "      <td>15.000000</td>\n",
       "      <td>23.237900</td>\n",
       "      <td>3.679113</td>\n",
       "      <td>7.130275</td>\n",
       "      <td>1.000000</td>\n",
       "      <td>6.557439</td>\n",
       "      <td>1.463255</td>\n",
       "      <td>0.556054</td>\n",
       "    </tr>\n",
       "    <tr>\n",
       "      <th>max</th>\n",
       "      <td>1.000000</td>\n",
       "      <td>32.000000</td>\n",
       "      <td>34.000000</td>\n",
       "      <td>31.160873</td>\n",
       "      <td>4.242867</td>\n",
       "      <td>11.069400</td>\n",
       "      <td>1.000000</td>\n",
       "      <td>9.746794</td>\n",
       "      <td>3.072693</td>\n",
       "      <td>0.983483</td>\n",
       "    </tr>\n",
       "  </tbody>\n",
       "</table>\n",
       "</div>"
      ],
      "text/plain": [
       "             Gender    BirthState      State_Id     TimeInApp           Age  \\\n",
       "count  19770.000000  19770.000000  19770.000000  19770.000000  19770.000000   \n",
       "mean       0.446434     13.165857     14.199494     19.280951      3.488211   \n",
       "std        0.497135      5.677897      5.937708      5.532923      0.269432   \n",
       "min        0.000000      1.000000      2.000000      6.633250      2.927912   \n",
       "25%        0.000000      8.000000     11.000000     15.231546      3.283517   \n",
       "50%        0.000000     13.000000     14.000000     18.788294      3.458437   \n",
       "75%        1.000000     13.000000     15.000000     23.237900      3.679113   \n",
       "max        1.000000     32.000000     34.000000     31.160873      4.242867   \n",
       "\n",
       "        paid_amount          Paid      loan_num  annual_interest_rate_per  \\\n",
       "count  19770.000000  19770.000000  19770.000000              19769.000000   \n",
       "mean       6.397296      0.973091      5.122855                  1.022761   \n",
       "std        1.347757      0.161823      1.872702                  0.754034   \n",
       "min        0.000000      0.000000      1.000000                 -3.177282   \n",
       "25%        5.983980      1.000000      3.741657                  0.433636   \n",
       "50%        6.673841      1.000000      5.196152                  0.875469   \n",
       "75%        7.130275      1.000000      6.557439                  1.463255   \n",
       "max       11.069400      1.000000      9.746794                  3.072693   \n",
       "\n",
       "       loan_rate_salary  \n",
       "count      19770.000000  \n",
       "mean           0.462910  \n",
       "std            0.132813  \n",
       "min            0.011108  \n",
       "25%            0.393281  \n",
       "50%            0.491984  \n",
       "75%            0.556054  \n",
       "max            0.983483  "
      ]
     },
     "execution_count": 33,
     "metadata": {},
     "output_type": "execute_result"
    }
   ],
   "source": [
    "df_model.describe()\n",
    "# These variables need standarization:\n",
    "    # TimeInApp\n",
    "    # Age\n",
    "    # paid_amount\n",
    "    # loan_num\n",
    "    # annual_interest_rate_per\n",
    "    # loan_rate_salary"
   ]
  },
  {
   "attachments": {},
   "cell_type": "markdown",
   "metadata": {},
   "source": [
    "#### 10.4 - Create categorical varibles"
   ]
  },
  {
   "cell_type": "code",
   "execution_count": 34,
   "metadata": {},
   "outputs": [],
   "source": [
    "# This variables need to be inputed as categorical:\n",
    "    # State_Id\n",
    "    # BirthState"
   ]
  },
  {
   "cell_type": "code",
   "execution_count": 35,
   "metadata": {},
   "outputs": [],
   "source": [
    "def pd_col_to_dummy(df, col):\n",
    "    df_dummy = pd.get_dummies(df[col], prefix=col)\n",
    "    df = pd.concat([df, df_dummy], axis=1)\n",
    "    df = df.drop(col, axis=1)\n",
    "    return df"
   ]
  },
  {
   "attachments": {},
   "cell_type": "markdown",
   "metadata": {},
   "source": [
    "### 11.0 Last checks"
   ]
  },
  {
   "cell_type": "code",
   "execution_count": 36,
   "metadata": {},
   "outputs": [],
   "source": [
    "df_model = df_model.dropna()"
   ]
  },
  {
   "cell_type": "code",
   "execution_count": 38,
   "metadata": {},
   "outputs": [],
   "source": [
    "df_model = downcast(df_model)"
   ]
  },
  {
   "cell_type": "code",
   "execution_count": 39,
   "metadata": {},
   "outputs": [
    {
     "name": "stdout",
     "output_type": "stream",
     "text": [
      "<class 'pandas.core.frame.DataFrame'>\n",
      "Int64Index: 19769 entries, 0 to 19814\n",
      "Data columns (total 10 columns):\n",
      " #   Column                    Non-Null Count  Dtype  \n",
      "---  ------                    --------------  -----  \n",
      " 0   Gender                    19769 non-null  int8   \n",
      " 1   BirthState                19769 non-null  uint8  \n",
      " 2   State_Id                  19769 non-null  uint8  \n",
      " 3   TimeInApp                 19769 non-null  float32\n",
      " 4   Age                       19769 non-null  float32\n",
      " 5   paid_amount               19769 non-null  float32\n",
      " 6   Paid                      19769 non-null  uint8  \n",
      " 7   loan_num                  19769 non-null  float32\n",
      " 8   annual_interest_rate_per  19769 non-null  float32\n",
      " 9   loan_rate_salary          19769 non-null  float32\n",
      "dtypes: float32(6), int8(1), uint8(3)\n",
      "memory usage: 695.0 KB\n"
     ]
    }
   ],
   "source": [
    "df_model.info()"
   ]
  },
  {
   "attachments": {},
   "cell_type": "markdown",
   "metadata": {},
   "source": [
    "### Save data"
   ]
  },
  {
   "cell_type": "code",
   "execution_count": 40,
   "metadata": {},
   "outputs": [],
   "source": [
    "df_model.to_csv(\"Reporte de Anticipo Propuesta.csv\", index=False)"
   ]
  },
  {
   "cell_type": "code",
   "execution_count": 43,
   "metadata": {},
   "outputs": [
    {
     "data": {
      "text/html": [
       "<div>\n",
       "<style scoped>\n",
       "    .dataframe tbody tr th:only-of-type {\n",
       "        vertical-align: middle;\n",
       "    }\n",
       "\n",
       "    .dataframe tbody tr th {\n",
       "        vertical-align: top;\n",
       "    }\n",
       "\n",
       "    .dataframe thead th {\n",
       "        text-align: right;\n",
       "    }\n",
       "</style>\n",
       "<table border=\"1\" class=\"dataframe\">\n",
       "  <thead>\n",
       "    <tr style=\"text-align: right;\">\n",
       "      <th></th>\n",
       "      <th>Gender</th>\n",
       "      <th>BirthState</th>\n",
       "      <th>State_Id</th>\n",
       "      <th>TimeInApp</th>\n",
       "      <th>Age</th>\n",
       "      <th>paid_amount</th>\n",
       "      <th>Paid</th>\n",
       "      <th>loan_num</th>\n",
       "      <th>annual_interest_rate_per</th>\n",
       "      <th>loan_rate_salary</th>\n",
       "    </tr>\n",
       "  </thead>\n",
       "  <tbody>\n",
       "    <tr>\n",
       "      <th>0</th>\n",
       "      <td>0</td>\n",
       "      <td>13</td>\n",
       "      <td>14</td>\n",
       "      <td>11.661903</td>\n",
       "      <td>3.813741</td>\n",
       "      <td>3.849935</td>\n",
       "      <td>1</td>\n",
       "      <td>1.732051</td>\n",
       "      <td>0.770108</td>\n",
       "      <td>0.024546</td>\n",
       "    </tr>\n",
       "    <tr>\n",
       "      <th>1</th>\n",
       "      <td>0</td>\n",
       "      <td>11</td>\n",
       "      <td>11</td>\n",
       "      <td>11.445523</td>\n",
       "      <td>3.754380</td>\n",
       "      <td>8.684492</td>\n",
       "      <td>1</td>\n",
       "      <td>7.745967</td>\n",
       "      <td>0.770108</td>\n",
       "      <td>0.553064</td>\n",
       "    </tr>\n",
       "    <tr>\n",
       "      <th>2</th>\n",
       "      <td>0</td>\n",
       "      <td>8</td>\n",
       "      <td>7</td>\n",
       "      <td>11.618950</td>\n",
       "      <td>3.885022</td>\n",
       "      <td>7.019949</td>\n",
       "      <td>1</td>\n",
       "      <td>2.000000</td>\n",
       "      <td>0.770108</td>\n",
       "      <td>0.163524</td>\n",
       "    </tr>\n",
       "    <tr>\n",
       "      <th>3</th>\n",
       "      <td>1</td>\n",
       "      <td>13</td>\n",
       "      <td>14</td>\n",
       "      <td>10.295630</td>\n",
       "      <td>3.465479</td>\n",
       "      <td>4.423169</td>\n",
       "      <td>1</td>\n",
       "      <td>1.000000</td>\n",
       "      <td>0.770108</td>\n",
       "      <td>0.125122</td>\n",
       "    </tr>\n",
       "    <tr>\n",
       "      <th>4</th>\n",
       "      <td>0</td>\n",
       "      <td>13</td>\n",
       "      <td>14</td>\n",
       "      <td>10.198039</td>\n",
       "      <td>3.644872</td>\n",
       "      <td>7.206896</td>\n",
       "      <td>1</td>\n",
       "      <td>6.557438</td>\n",
       "      <td>0.770108</td>\n",
       "      <td>0.546901</td>\n",
       "    </tr>\n",
       "    <tr>\n",
       "      <th>...</th>\n",
       "      <td>...</td>\n",
       "      <td>...</td>\n",
       "      <td>...</td>\n",
       "      <td>...</td>\n",
       "      <td>...</td>\n",
       "      <td>...</td>\n",
       "      <td>...</td>\n",
       "      <td>...</td>\n",
       "      <td>...</td>\n",
       "      <td>...</td>\n",
       "    </tr>\n",
       "    <tr>\n",
       "      <th>19764</th>\n",
       "      <td>1</td>\n",
       "      <td>8</td>\n",
       "      <td>16</td>\n",
       "      <td>22.847319</td>\n",
       "      <td>3.491746</td>\n",
       "      <td>6.078399</td>\n",
       "      <td>1</td>\n",
       "      <td>4.690416</td>\n",
       "      <td>0.875469</td>\n",
       "      <td>0.570923</td>\n",
       "    </tr>\n",
       "    <tr>\n",
       "      <th>19765</th>\n",
       "      <td>0</td>\n",
       "      <td>13</td>\n",
       "      <td>14</td>\n",
       "      <td>30.724583</td>\n",
       "      <td>3.246499</td>\n",
       "      <td>4.862522</td>\n",
       "      <td>1</td>\n",
       "      <td>6.928203</td>\n",
       "      <td>0.875469</td>\n",
       "      <td>0.141390</td>\n",
       "    </tr>\n",
       "    <tr>\n",
       "      <th>19766</th>\n",
       "      <td>1</td>\n",
       "      <td>13</td>\n",
       "      <td>14</td>\n",
       "      <td>30.659420</td>\n",
       "      <td>3.167388</td>\n",
       "      <td>6.693918</td>\n",
       "      <td>1</td>\n",
       "      <td>4.690416</td>\n",
       "      <td>0.875469</td>\n",
       "      <td>0.462012</td>\n",
       "    </tr>\n",
       "    <tr>\n",
       "      <th>19767</th>\n",
       "      <td>0</td>\n",
       "      <td>27</td>\n",
       "      <td>28</td>\n",
       "      <td>16.703293</td>\n",
       "      <td>3.352626</td>\n",
       "      <td>4.671800</td>\n",
       "      <td>1</td>\n",
       "      <td>1.414214</td>\n",
       "      <td>0.875469</td>\n",
       "      <td>0.366256</td>\n",
       "    </tr>\n",
       "    <tr>\n",
       "      <th>19768</th>\n",
       "      <td>0</td>\n",
       "      <td>8</td>\n",
       "      <td>8</td>\n",
       "      <td>12.328828</td>\n",
       "      <td>4.013252</td>\n",
       "      <td>5.955993</td>\n",
       "      <td>1</td>\n",
       "      <td>2.449490</td>\n",
       "      <td>0.993252</td>\n",
       "      <td>0.341096</td>\n",
       "    </tr>\n",
       "  </tbody>\n",
       "</table>\n",
       "<p>19769 rows × 10 columns</p>\n",
       "</div>"
      ],
      "text/plain": [
       "       Gender  BirthState  State_Id  TimeInApp       Age  paid_amount  Paid  \\\n",
       "0           0          13        14  11.661903  3.813741     3.849935     1   \n",
       "1           0          11        11  11.445523  3.754380     8.684492     1   \n",
       "2           0           8         7  11.618950  3.885022     7.019949     1   \n",
       "3           1          13        14  10.295630  3.465479     4.423169     1   \n",
       "4           0          13        14  10.198039  3.644872     7.206896     1   \n",
       "...       ...         ...       ...        ...       ...          ...   ...   \n",
       "19764       1           8        16  22.847319  3.491746     6.078399     1   \n",
       "19765       0          13        14  30.724583  3.246499     4.862522     1   \n",
       "19766       1          13        14  30.659420  3.167388     6.693918     1   \n",
       "19767       0          27        28  16.703293  3.352626     4.671800     1   \n",
       "19768       0           8         8  12.328828  4.013252     5.955993     1   \n",
       "\n",
       "       loan_num  annual_interest_rate_per  loan_rate_salary  \n",
       "0      1.732051                  0.770108          0.024546  \n",
       "1      7.745967                  0.770108          0.553064  \n",
       "2      2.000000                  0.770108          0.163524  \n",
       "3      1.000000                  0.770108          0.125122  \n",
       "4      6.557438                  0.770108          0.546901  \n",
       "...         ...                       ...               ...  \n",
       "19764  4.690416                  0.875469          0.570923  \n",
       "19765  6.928203                  0.875469          0.141390  \n",
       "19766  4.690416                  0.875469          0.462012  \n",
       "19767  1.414214                  0.875469          0.366256  \n",
       "19768  2.449490                  0.993252          0.341096  \n",
       "\n",
       "[19769 rows x 10 columns]"
      ]
     },
     "execution_count": 43,
     "metadata": {},
     "output_type": "execute_result"
    }
   ],
   "source": [
    "pd.read_csv(\"Reporte de Anticipo Propuesta.csv\")"
   ]
  },
  {
   "cell_type": "code",
   "execution_count": null,
   "metadata": {},
   "outputs": [],
   "source": []
  }
 ],
 "metadata": {
  "kernelspec": {
   "display_name": "Python 3",
   "language": "python",
   "name": "python3"
  },
  "language_info": {
   "codemirror_mode": {
    "name": "ipython",
    "version": 3
   },
   "file_extension": ".py",
   "mimetype": "text/x-python",
   "name": "python",
   "nbconvert_exporter": "python",
   "pygments_lexer": "ipython3",
   "version": "3.9.13"
  },
  "orig_nbformat": 4
 },
 "nbformat": 4,
 "nbformat_minor": 2
}
