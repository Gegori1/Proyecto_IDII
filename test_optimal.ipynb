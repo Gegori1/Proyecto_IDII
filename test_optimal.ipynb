{
 "cells": [
  {
   "cell_type": "code",
   "execution_count": 1,
   "metadata": {},
   "outputs": [],
   "source": [
    "# data management\n",
    "import pandas as pd\n",
    "import numpy as np\n",
    "from sklearn.preprocessing import StandardScaler\n",
    "from Utils import downcast, pd_col_to_dummy\n",
    "from datetime import datetime\n",
    "\n",
    "from pathlib import Path\n",
    "from multilayer_perceptron import MultilayerPerceptron\n",
    "\n",
    "# Bayesian Optimization\n",
    "from bayes_opt import BayesianOptimization\n",
    "from bayes_opt.logger import JSONLogger\n",
    "from bayes_opt.event import Events\n",
    "\n",
    "# logistic regression\n",
    "from sklearn.linear_model import LogisticRegression\n",
    "\n",
    "# model selection\n",
    "from sklearn.model_selection import train_test_split\n",
    "\n",
    "# Metrics\n",
    "from sklearn.metrics import (\n",
    "    recall_score, \n",
    "    precision_score,\n",
    "    f1_score,\n",
    "    confusion_matrix\n",
    ")\n",
    "\n",
    "# Plot\n",
    "import matplotlib.pyplot as plt"
   ]
  },
  {
   "cell_type": "code",
   "execution_count": 2,
   "metadata": {},
   "outputs": [],
   "source": [
    "# from google.colab import drive\n",
    "# drive.mount('/content/drive')"
   ]
  },
  {
   "cell_type": "code",
   "execution_count": 3,
   "metadata": {},
   "outputs": [],
   "source": [
    "# ruta = (\"/content/drive/MyDrive/Proyecto_IDI2/Reporte de Anticipos.xlsx\")"
   ]
  },
  {
   "attachments": {},
   "cell_type": "markdown",
   "metadata": {},
   "source": [
    "### 1. Load data"
   ]
  },
  {
   "cell_type": "code",
   "execution_count": 4,
   "metadata": {},
   "outputs": [],
   "source": [
    "df = pd.read_csv('Reporte de Anticipo Propuesta.csv')"
   ]
  },
  {
   "cell_type": "code",
   "execution_count": 5,
   "metadata": {},
   "outputs": [],
   "source": [
    "df = downcast(df)"
   ]
  },
  {
   "attachments": {},
   "cell_type": "markdown",
   "metadata": {},
   "source": [
    "### 2.0 Standardize the data"
   ]
  },
  {
   "cell_type": "code",
   "execution_count": 6,
   "metadata": {},
   "outputs": [],
   "source": [
    "df_continuous = df.drop([\"Gender\", \"BirthState\", \"State_Id\", \"Paid\"], axis=1)"
   ]
  },
  {
   "attachments": {},
   "cell_type": "markdown",
   "metadata": {},
   "source": [
    "### 3.0 Test models"
   ]
  },
  {
   "attachments": {},
   "cell_type": "markdown",
   "metadata": {},
   "source": [
    "#### 3.1 Split the data into train and test sets"
   ]
  },
  {
   "cell_type": "code",
   "execution_count": 7,
   "metadata": {},
   "outputs": [],
   "source": [
    "y = df.Paid"
   ]
  },
  {
   "cell_type": "code",
   "execution_count": 8,
   "metadata": {},
   "outputs": [],
   "source": [
    "# Splitting to training and testing data\n",
    "X_train, X_test, y_train, y_test = train_test_split(\n",
    "    df_continuous, y, test_size = 0.3, random_state = 4, stratify = y\n",
    ")\n",
    "\n",
    "y_train = y_train.values.reshape(-1, 1)\n",
    "y_test = y_test.values.reshape(-1, 1)"
   ]
  },
  {
   "cell_type": "code",
   "execution_count": 9,
   "metadata": {},
   "outputs": [],
   "source": [
    "# The following combinations will be tested\n",
    "sc = StandardScaler()\n",
    "X_train = sc.fit_transform(X_train)\n",
    "X_test = sc.transform(X_test)"
   ]
  },
  {
   "cell_type": "code",
   "execution_count": 10,
   "metadata": {},
   "outputs": [],
   "source": [
    "def FPR(y_true, y_pred):\n",
    "    tn, fp, _, _ = confusion_matrix(y_true, y_pred).ravel()\n",
    "    return fp / (fp + tn)"
   ]
  },
  {
   "attachments": {},
   "cell_type": "markdown",
   "metadata": {},
   "source": [
    "#### 3.2 Bayesian Optimization function"
   ]
  },
  {
   "attachments": {},
   "cell_type": "markdown",
   "metadata": {},
   "source": [
    "- MultilayerPerceptron"
   ]
  },
  {
   "cell_type": "code",
   "execution_count": 45,
   "metadata": {},
   "outputs": [],
   "source": [
    "def Mp_bas(neurons, learning_rate=1.25, threshold=0.6, test_size=0.3, random_state=4):\n",
    "\n",
    "    X_train_ = X_train.copy()\n",
    "    X_test_ = X_test.copy()\n",
    "\n",
    "        \n",
    "    ###############################\t\n",
    "    # fit and predict\n",
    "    ###############################\n",
    "\n",
    "    # parameters\n",
    "    hyperparameters = {\n",
    "        \"n_neurons\": int(neurons),\n",
    "        \"eta\": learning_rate,\n",
    "        \"threshold\": threshold,\n",
    "        \"random_state\": 4,\n",
    "    }\n",
    "\n",
    "    model = MultilayerPerceptron(**hyperparameters).fit(X_train_, y_train)\n",
    "\n",
    "    y_pred_prob = model.predict(X_test_, prob=True)\n",
    "\n",
    "    y_pred = model.predict(X_test_, prob=False)\n",
    "\n",
    "    y_pred_train = model.predict(X_train_, prob=False)\n",
    "    \n",
    "    ###############################\t\n",
    "    # compute metrics\n",
    "    ###############################\n",
    "    fpr = FPR(y_test, y_pred)\n",
    "    recall_ = 1 - recall_score(y_test, y_pred)\n",
    "    precision_score_ = precision_score(y_test, y_pred)\n",
    "\n",
    "    # distance to 0.5\n",
    "    dist = np.mean(np.sin(y_pred_prob*np.pi))\n",
    "\n",
    "    ###############################\t\n",
    "    # print results\n",
    "    ###############################\n",
    "    print(f\"loss: {fpr*10 + dist*100 + recall_*2}\")\n",
    "\n",
    "    print(f\"FPR: {fpr}, distance to 0.5: {dist}, recall complement: {recall_}\")\n",
    "\n",
    "    print(f\"precision_score: {precision_score_}\")\n",
    "\n",
    "    print(\"Conjunto de prueba: \")\n",
    "\n",
    "    (\n",
    "        pd\n",
    "        .DataFrame(confusion_matrix(y_test, y_pred))\n",
    "        .style.background_gradient(cmap='Oranges')\n",
    "        .set_caption('Conjunto de prueba: ')\n",
    "        .pipe(display)\n",
    "    )\n",
    "\n",
    "    print(\"Conjunto de entrenamiento: \")\n",
    "\n",
    "    (\n",
    "        pd\n",
    "        .DataFrame(confusion_matrix(y_train, y_pred_train))\n",
    "        .style.background_gradient(cmap='Blues')\n",
    "        .set_caption('Conjunto de entrenamiento: ')\n",
    "        .pipe(display)\n",
    "    )\n",
    "\n",
    "    \n",
    "    return y_pred_prob"
   ]
  },
  {
   "attachments": {},
   "cell_type": "markdown",
   "metadata": {},
   "source": [
    "- LogisticRegression"
   ]
  },
  {
   "cell_type": "code",
   "execution_count": 46,
   "metadata": {},
   "outputs": [],
   "source": [
    "def Lr_bas(gender=0, State=0, BState=0, threshold=0.6, test_size=0.3, random_state=4):\n",
    "\n",
    "    X_train_ = X_train.copy()\n",
    "    X_test_ = X_test.copy()\n",
    "\n",
    "        \n",
    "    ###############################\t\n",
    "    # fit and predict\n",
    "    ###############################\n",
    "\n",
    "    model = LogisticRegression(random_state=random_state).fit(X_train_, y_train.reshape(-1))\n",
    "\n",
    "    y_pred_prob = model.predict_proba(X_test_)[:, 1].reshape(-1, 1)\n",
    "\n",
    "    y_pred = np.where(y_pred_prob > threshold, 1, 0)\n",
    "\n",
    "    y_pred_train = model.predict(X_train_).reshape(-1, 1)\n",
    "    \n",
    "    ###############################\t\n",
    "    # compute metrics\n",
    "    ###############################\n",
    "\n",
    "    fpr = FPR(y_test, y_pred)\n",
    "    recall_ = 1 - recall_score(y_test, y_pred)\n",
    "    precision_score_ = precision_score(y_test, y_pred)\n",
    "\n",
    "    # distance to 0.5\n",
    "    dist = np.mean(np.sin(y_pred_prob*np.pi))\n",
    "\n",
    "    ###############################\t\n",
    "    # print results\n",
    "    ###############################\n",
    "    \n",
    "    print(f\"loss: {fpr*10 + dist*100 + recall_*2}\")\n",
    "\n",
    "    print(f\"FPR: {fpr}, distance to 0.5: {dist}, recall complement: {recall_}\")\n",
    "\n",
    "    print(f\"precision_score: {precision_score_}\")\n",
    "\n",
    "    print(\"Conjunto de prueba: \")\n",
    "\n",
    "    (\n",
    "        pd\n",
    "        .DataFrame(confusion_matrix(y_test, y_pred))\n",
    "        .style.background_gradient(cmap='Oranges')\n",
    "        .set_caption('Conjunto de prueba: ')\n",
    "        .pipe(display)\n",
    "    )\n",
    "\n",
    "    print(\"Conjunto de entrenamiento: \")\n",
    "\n",
    "    (\n",
    "        pd\n",
    "        .DataFrame(confusion_matrix(y_train, y_pred_train))\n",
    "        .style.background_gradient(cmap='Blues')\n",
    "        .set_caption('Conjunto de entrenamiento: ')\n",
    "        .pipe(display)\n",
    "    )\n",
    "    \n",
    "    \n",
    "    \n",
    "    return y_pred_prob"
   ]
  },
  {
   "attachments": {},
   "cell_type": "markdown",
   "metadata": {},
   "source": [
    "#### 3.3 Optimal Model comparison"
   ]
  },
  {
   "attachments": {},
   "cell_type": "markdown",
   "metadata": {},
   "source": [
    "- LogisticRegression"
   ]
  },
  {
   "cell_type": "code",
   "execution_count": 44,
   "metadata": {},
   "outputs": [
    {
     "name": "stdout",
     "output_type": "stream",
     "text": [
      "loss: 2.9689180791186613\n",
      "FPR: 0.11320754716981132, distance to 0.5: 0.018267940973720375, recall complement: 0.005024255024255075\n",
      "precision_score: 0.9968755424405485\n",
      "Conjunto de prueba: \n"
     ]
    },
    {
     "data": {
      "text/html": [
       "<style type=\"text/css\">\n",
       "#T_d0035_row0_col0, #T_d0035_row1_col1 {\n",
       "  background-color: #7f2704;\n",
       "  color: #f1f1f1;\n",
       "}\n",
       "#T_d0035_row0_col1, #T_d0035_row1_col0 {\n",
       "  background-color: #fff5eb;\n",
       "  color: #000000;\n",
       "}\n",
       "</style>\n",
       "<table id=\"T_d0035_\">\n",
       "  <caption>Conjunto de prueba: </caption>\n",
       "  <thead>\n",
       "    <tr>\n",
       "      <th class=\"blank level0\" >&nbsp;</th>\n",
       "      <th class=\"col_heading level0 col0\" >0</th>\n",
       "      <th class=\"col_heading level0 col1\" >1</th>\n",
       "    </tr>\n",
       "  </thead>\n",
       "  <tbody>\n",
       "    <tr>\n",
       "      <th id=\"T_d0035_level0_row0\" class=\"row_heading level0 row0\" >0</th>\n",
       "      <td id=\"T_d0035_row0_col0\" class=\"data row0 col0\" >141</td>\n",
       "      <td id=\"T_d0035_row0_col1\" class=\"data row0 col1\" >18</td>\n",
       "    </tr>\n",
       "    <tr>\n",
       "      <th id=\"T_d0035_level0_row1\" class=\"row_heading level0 row1\" >1</th>\n",
       "      <td id=\"T_d0035_row1_col0\" class=\"data row1 col0\" >29</td>\n",
       "      <td id=\"T_d0035_row1_col1\" class=\"data row1 col1\" >5743</td>\n",
       "    </tr>\n",
       "  </tbody>\n",
       "</table>\n"
      ],
      "text/plain": [
       "<pandas.io.formats.style.Styler at 0x23c5a112370>"
      ]
     },
     "metadata": {},
     "output_type": "display_data"
    },
    {
     "name": "stdout",
     "output_type": "stream",
     "text": [
      "Conjunto de entrenamiento: \n"
     ]
    },
    {
     "data": {
      "text/html": [
       "<style type=\"text/css\">\n",
       "#T_60231_row0_col0, #T_60231_row1_col1 {\n",
       "  background-color: #08306b;\n",
       "  color: #f1f1f1;\n",
       "}\n",
       "#T_60231_row0_col1, #T_60231_row1_col0 {\n",
       "  background-color: #f7fbff;\n",
       "  color: #000000;\n",
       "}\n",
       "</style>\n",
       "<table id=\"T_60231_\">\n",
       "  <caption>Conjunto de entrenamiento: </caption>\n",
       "  <thead>\n",
       "    <tr>\n",
       "      <th class=\"blank level0\" >&nbsp;</th>\n",
       "      <th class=\"col_heading level0 col0\" >0</th>\n",
       "      <th class=\"col_heading level0 col1\" >1</th>\n",
       "    </tr>\n",
       "  </thead>\n",
       "  <tbody>\n",
       "    <tr>\n",
       "      <th id=\"T_60231_level0_row0\" class=\"row_heading level0 row0\" >0</th>\n",
       "      <td id=\"T_60231_row0_col0\" class=\"data row0 col0\" >295</td>\n",
       "      <td id=\"T_60231_row0_col1\" class=\"data row0 col1\" >77</td>\n",
       "    </tr>\n",
       "    <tr>\n",
       "      <th id=\"T_60231_level0_row1\" class=\"row_heading level0 row1\" >1</th>\n",
       "      <td id=\"T_60231_row1_col0\" class=\"data row1 col0\" >26</td>\n",
       "      <td id=\"T_60231_row1_col1\" class=\"data row1 col1\" >13440</td>\n",
       "    </tr>\n",
       "  </tbody>\n",
       "</table>\n"
      ],
      "text/plain": [
       "<pandas.io.formats.style.Styler at 0x23c55d85eb0>"
      ]
     },
     "metadata": {},
     "output_type": "display_data"
    }
   ],
   "source": [
    "y_lr = Lr_bas(BState=0, gender=0, State=0, threshold=0.8)"
   ]
  },
  {
   "cell_type": "code",
   "execution_count": 49,
   "metadata": {},
   "outputs": [
    {
     "data": {
      "image/png": "[encoded data removed]",
      "text/plain": [
       "<Figure size 720x288 with 2 Axes>"
      ]
     },
     "metadata": {
      "needs_background": "light"
     },
     "output_type": "display_data"
    }
   ],
   "source": [
    "fig, ax = plt.subplots(1, 2, figsize=(10, 4))\n",
    "\n",
    "ax[0].hist(y_lr[y_test == 0], bins=20, alpha=0.5, label=\"test = 0\")\n",
    "ax[0].hist(y_lr[y_test == 1], bins=20, alpha=0.5, label=\"test = 1\")\n",
    "ax[0].set_title(\"Regresion Logistica\")\n",
    "ax[0].legend()\n",
    "ax[1].hist(y_lr[y_test == 0], bins=20, alpha=0.5, label=\"test = 0\")\n",
    "ax[1].set_title(\"Regresion Logistica = 0\");\n"
   ]
  },
  {
   "attachments": {},
   "cell_type": "markdown",
   "metadata": {},
   "source": [
    "- MultilayerPerceptron"
   ]
  },
  {
   "cell_type": "code",
   "execution_count": 47,
   "metadata": {},
   "outputs": [
    {
     "name": "stdout",
     "output_type": "stream",
     "text": [
      "loss: 1.5576721245374463\n",
      "FPR: 0.07547169811320754, distance to 0.5: 0.00794985635435863, recall complement: 0.003984753984753953\n",
      "precision_score: 0.997917028293699\n",
      "Conjunto de prueba: \n"
     ]
    },
    {
     "data": {
      "text/html": [
       "<style type=\"text/css\">\n",
       "#T_a348f_row0_col0, #T_a348f_row1_col1 {\n",
       "  background-color: #7f2704;\n",
       "  color: #f1f1f1;\n",
       "}\n",
       "#T_a348f_row0_col1, #T_a348f_row1_col0 {\n",
       "  background-color: #fff5eb;\n",
       "  color: #000000;\n",
       "}\n",
       "</style>\n",
       "<table id=\"T_a348f_\">\n",
       "  <caption>Conjunto de prueba: </caption>\n",
       "  <thead>\n",
       "    <tr>\n",
       "      <th class=\"blank level0\" >&nbsp;</th>\n",
       "      <th class=\"col_heading level0 col0\" >0</th>\n",
       "      <th class=\"col_heading level0 col1\" >1</th>\n",
       "    </tr>\n",
       "  </thead>\n",
       "  <tbody>\n",
       "    <tr>\n",
       "      <th id=\"T_a348f_level0_row0\" class=\"row_heading level0 row0\" >0</th>\n",
       "      <td id=\"T_a348f_row0_col0\" class=\"data row0 col0\" >147</td>\n",
       "      <td id=\"T_a348f_row0_col1\" class=\"data row0 col1\" >12</td>\n",
       "    </tr>\n",
       "    <tr>\n",
       "      <th id=\"T_a348f_level0_row1\" class=\"row_heading level0 row1\" >1</th>\n",
       "      <td id=\"T_a348f_row1_col0\" class=\"data row1 col0\" >23</td>\n",
       "      <td id=\"T_a348f_row1_col1\" class=\"data row1 col1\" >5749</td>\n",
       "    </tr>\n",
       "  </tbody>\n",
       "</table>\n"
      ],
      "text/plain": [
       "<pandas.io.formats.style.Styler at 0x23c5a118fd0>"
      ]
     },
     "metadata": {},
     "output_type": "display_data"
    },
    {
     "name": "stdout",
     "output_type": "stream",
     "text": [
      "Conjunto de entrenamiento: \n"
     ]
    },
    {
     "data": {
      "text/html": [
       "<style type=\"text/css\">\n",
       "#T_e1153_row0_col0, #T_e1153_row1_col1 {\n",
       "  background-color: #08306b;\n",
       "  color: #f1f1f1;\n",
       "}\n",
       "#T_e1153_row0_col1, #T_e1153_row1_col0 {\n",
       "  background-color: #f7fbff;\n",
       "  color: #000000;\n",
       "}\n",
       "</style>\n",
       "<table id=\"T_e1153_\">\n",
       "  <caption>Conjunto de entrenamiento: </caption>\n",
       "  <thead>\n",
       "    <tr>\n",
       "      <th class=\"blank level0\" >&nbsp;</th>\n",
       "      <th class=\"col_heading level0 col0\" >0</th>\n",
       "      <th class=\"col_heading level0 col1\" >1</th>\n",
       "    </tr>\n",
       "  </thead>\n",
       "  <tbody>\n",
       "    <tr>\n",
       "      <th id=\"T_e1153_level0_row0\" class=\"row_heading level0 row0\" >0</th>\n",
       "      <td id=\"T_e1153_row0_col0\" class=\"data row0 col0\" >337</td>\n",
       "      <td id=\"T_e1153_row0_col1\" class=\"data row0 col1\" >35</td>\n",
       "    </tr>\n",
       "    <tr>\n",
       "      <th id=\"T_e1153_level0_row1\" class=\"row_heading level0 row1\" >1</th>\n",
       "      <td id=\"T_e1153_row1_col0\" class=\"data row1 col0\" >49</td>\n",
       "      <td id=\"T_e1153_row1_col1\" class=\"data row1 col1\" >13417</td>\n",
       "    </tr>\n",
       "  </tbody>\n",
       "</table>\n"
      ],
      "text/plain": [
       "<pandas.io.formats.style.Styler at 0x23c5a118a30>"
      ]
     },
     "metadata": {},
     "output_type": "display_data"
    }
   ],
   "source": [
    "y_mp = Mp_bas(neurons=66, learning_rate=1.25, threshold=0.8)"
   ]
  },
  {
   "cell_type": "code",
   "execution_count": 50,
   "metadata": {},
   "outputs": [
    {
     "data": {
      "image/png": "[encoded data removed]",
      "text/plain": [
       "<Figure size 720x288 with 2 Axes>"
      ]
     },
     "metadata": {
      "needs_background": "light"
     },
     "output_type": "display_data"
    }
   ],
   "source": [
    "fig, ax = plt.subplots(1, 2, figsize=(10, 4))\n",
    "\n",
    "ax[0].hist(y_mp[y_test == 0], bins=20, alpha=0.5, label=\"test = 0\")\n",
    "ax[0].hist(y_mp[y_test == 1], bins=20, alpha=0.5, label=\"test = 1\")\n",
    "ax[0].set_title(\"Perceptron Multicapa\")\n",
    "ax[0].legend()\n",
    "ax[1].hist(y_mp[y_test == 0], bins=20, alpha=0.5, label=\"test = 0\")\n",
    "ax[1].set_title(\"Perceptron Multicapa = 0\");"
   ]
  },
  {
   "cell_type": "code",
   "execution_count": 17,
   "metadata": {},
   "outputs": [
    {
     "name": "stdout",
     "output_type": "stream",
     "text": [
      "loss: 2.152415386393361\n",
      "FPR: 0.06289308176100629, distance to 0.5: 0.015127430580417874, recall complement: 0.005370755370755376\n",
      "precision_score: 0.9982611719700921\n",
      "Test set: \n"
     ]
    },
    {
     "data": {
      "text/html": [
       "<div>\n",
       "<style scoped>\n",
       "    .dataframe tbody tr th:only-of-type {\n",
       "        vertical-align: middle;\n",
       "    }\n",
       "\n",
       "    .dataframe tbody tr th {\n",
       "        vertical-align: top;\n",
       "    }\n",
       "\n",
       "    .dataframe thead th {\n",
       "        text-align: right;\n",
       "    }\n",
       "</style>\n",
       "<table border=\"1\" class=\"dataframe\">\n",
       "  <thead>\n",
       "    <tr style=\"text-align: right;\">\n",
       "      <th></th>\n",
       "      <th>0</th>\n",
       "      <th>1</th>\n",
       "    </tr>\n",
       "  </thead>\n",
       "  <tbody>\n",
       "    <tr>\n",
       "      <th>0</th>\n",
       "      <td>149</td>\n",
       "      <td>10</td>\n",
       "    </tr>\n",
       "    <tr>\n",
       "      <th>1</th>\n",
       "      <td>31</td>\n",
       "      <td>5741</td>\n",
       "    </tr>\n",
       "  </tbody>\n",
       "</table>\n",
       "</div>"
      ],
      "text/plain": [
       "     0     1\n",
       "0  149    10\n",
       "1   31  5741"
      ]
     },
     "metadata": {},
     "output_type": "display_data"
    },
    {
     "name": "stdout",
     "output_type": "stream",
     "text": [
      "Train set: \n"
     ]
    },
    {
     "data": {
      "text/html": [
       "<div>\n",
       "<style scoped>\n",
       "    .dataframe tbody tr th:only-of-type {\n",
       "        vertical-align: middle;\n",
       "    }\n",
       "\n",
       "    .dataframe tbody tr th {\n",
       "        vertical-align: top;\n",
       "    }\n",
       "\n",
       "    .dataframe thead th {\n",
       "        text-align: right;\n",
       "    }\n",
       "</style>\n",
       "<table border=\"1\" class=\"dataframe\">\n",
       "  <thead>\n",
       "    <tr style=\"text-align: right;\">\n",
       "      <th></th>\n",
       "      <th>0</th>\n",
       "      <th>1</th>\n",
       "    </tr>\n",
       "  </thead>\n",
       "  <tbody>\n",
       "    <tr>\n",
       "      <th>0</th>\n",
       "      <td>338</td>\n",
       "      <td>34</td>\n",
       "    </tr>\n",
       "    <tr>\n",
       "      <th>1</th>\n",
       "      <td>68</td>\n",
       "      <td>13398</td>\n",
       "    </tr>\n",
       "  </tbody>\n",
       "</table>\n",
       "</div>"
      ],
      "text/plain": [
       "     0      1\n",
       "0  338     34\n",
       "1   68  13398"
      ]
     },
     "metadata": {},
     "output_type": "display_data"
    }
   ],
   "source": [
    "# another good example\n",
    "y_mp = Mp_bas(neurons=35, learning_rate=1.25, threshold=0.8);"
   ]
  },
  {
   "cell_type": "code",
   "execution_count": null,
   "metadata": {},
   "outputs": [],
   "source": []
  }
 ],
 "metadata": {
  "kernelspec": {
   "display_name": "Python 3",
   "language": "python",
   "name": "python3"
  },
  "language_info": {
   "codemirror_mode": {
    "name": "ipython",
    "version": 3
   },
   "file_extension": ".py",
   "mimetype": "text/x-python",
   "name": "python",
   "nbconvert_exporter": "python",
   "pygments_lexer": "ipython3",
   "version": "3.9.13"
  },
  "orig_nbformat": 4
 },
 "nbformat": 4,
 "nbformat_minor": 2
}
